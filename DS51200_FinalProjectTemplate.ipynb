{
 "cells": [
  {
   "cell_type": "markdown",
   "id": "45762487-d33f-486d-8e38-2cdea04e3528",
   "metadata": {},
   "source": [
    "# Final Project Report\n",
    "\n",
    "* Class: DS 5100\n",
    "* Student Name: Katie Dunning\n",
    "* Student Net ID: umu5hh\n",
    "* This URL: https://github.com/KDunning0/DS5100FinalProject/blob/main/DS51200_FinalProjectTemplate.ipynb"
   ]
  },
  {
   "cell_type": "markdown",
   "id": "acf756c1-ecaa-41dc-b6ca-d566eb94560b",
   "metadata": {},
   "source": [
    "# Instructions\n",
    "\n",
    "Follow the instructions in the Final Project isntructions notebook and put evidence of your work in this notebook.\n",
    "\n",
    "Total points for each subsection under **Deliverables** and **Scenarios** are given in parentheses.\n",
    "\n",
    "Breakdowns of points within subsections are specified within subsection instructions as bulleted lists.\n",
    "\n",
    "This project is worth **50 points**."
   ]
  },
  {
   "cell_type": "markdown",
   "id": "89dc7a32-f682-4402-8c1e-b6ccdb3e0e39",
   "metadata": {},
   "source": [
    "# Deliverables"
   ]
  },
  {
   "cell_type": "markdown",
   "id": "d32cb273-9a40-4909-a7ce-51f6e4958d3c",
   "metadata": {},
   "source": [
    "## The Monte Carlo Module (10)\n",
    "\n",
    "- URL included, appropriately named (1).\n",
    "- Includes all three specified classes (3).\n",
    "- Includes at least all 12 specified methods (6; .5 each)."
   ]
  },
  {
   "cell_type": "markdown",
   "id": "f5f3b070-de9e-4de9-bfae-8974d184aa28",
   "metadata": {},
   "source": [
    "Put the URL to your GitHub repo here.\n",
    "\n",
    "Repo URL: https://github.com/KDunning0/DS5100FinalProject"
   ]
  },
  {
   "cell_type": "markdown",
   "id": "162370fb-3729-4c85-b040-8c25b2c966d2",
   "metadata": {},
   "source": [
    "Paste a copyy of your module here.\n",
    "\n",
    "NOTE: Paste as text, not as code. Use triple backticks to wrap your code blocks."
   ]
  },
  {
   "cell_type": "markdown",
   "id": "a5bfc38f-9c43-438e-9b20-c1ba86b4cef8",
   "metadata": {},
   "source": [
    "```python\n",
    "import numpy as np\n",
    "import pandas as pd\n",
    "\n",
    "class Die():\n",
    "    \"\"\"Creates a die object with weights that can be rolled.\"\"\"\n",
    "    def __init__(self,N):\n",
    "        \"\"\"Creates an instance of the die.\n",
    "        input=N, a numpy array of die faces (numeric or alphabetic).\n",
    "        Creates=Weights, a numpy array of uniform weights for each face.\n",
    "        die_frame, a pd dataframe of faces/sides and weights\"\"\"\n",
    "        if not isinstance(N,np.ndarray):\n",
    "            raise TypeError(\"N must be a numpy array.\")\n",
    "        if len(np.unique(N)) != len(N):\n",
    "            raise ValueError(\"Numbers must be distinct.\")\n",
    "        self.faces=N\n",
    "        self.weights=np.array([1.0 for num in range(len(N))])\n",
    "        self.die_frame=pd.DataFrame({'sides':self.faces,'weights':self.weights}).set_index('sides')\n",
    "    def change_weight(self,num_face,num_weight):\n",
    "        \"\"\"Changes the weight of a single die face.\n",
    "        input=num_face, a single member of self.faces.\n",
    "        num_weight, integer or float to replace weight of num_face\n",
    "        Changes=Alters the weight within self.die_frame\"\"\"\n",
    "        if num_face not in self.faces:\n",
    "            raise IndexError(\"Face not in dice faces.\")\n",
    "        if not isinstance(num_weight,(int,float)) and num_weight.lstrip('-').replace('.','').isdigit()==False:\n",
    "            raise TypeError(\"Not a number and/or can't become a number.\")\n",
    "        new_weight=float(num_weight)\n",
    "        self.die_frame.loc[num_face]=new_weight\n",
    "        self.weights=np.array(self.die_frame.iloc[:,0])\n",
    "    def roll_die(self,rolls=1):\n",
    "        \"\"\"Rolls the dice a set number of times.\n",
    "        default=rolls, integer, rolls 1 time.\n",
    "        input=rolls, integer, the number of times the die is rolled.\n",
    "        returns=temp_roll_holder, list, the die face rolled for each roll\"\"\"\n",
    "        temp_roll_holder=[]\n",
    "        for i in range(rolls):\n",
    "            new_roll=self.die_frame.sample(weights=self.weights).index[0]\n",
    "            temp_roll_holder.append(new_roll)\n",
    "        return temp_roll_holder\n",
    "    def show_die(self):\n",
    "        \"\"\"Shows the die object in its current state\n",
    "        returns=self.die_frame, pd Dataframe, faces/sides and weights of the die\"\"\"\n",
    "        return self.die_frame\n",
    "    \n",
    "class Game():\n",
    "    \"\"\"Creates a Game object for rolling multiple dice with the same side/face count.\"\"\"\n",
    "    def __init__(self,dice_list):\n",
    "        \"\"\"Creates an instance of the Game object\n",
    "        input=dice_list, list, a list of already instanced Die objects with same face/side count\n",
    "        creates=self.game_dice, list, originally dice_list\"\"\"\n",
    "        self.game_dice=dice_list\n",
    "    def play(self,roll_num):\n",
    "        \"\"\"Rolls the dice in self.game_dice a set number of times, then stores results\n",
    "        input=roll_num, integer, a number of time for all dice to be rolled\n",
    "        creates=self.play_run, pd DataFrame, stores the faces rolled for each die for each roll\"\"\"\n",
    "        self.play_run=pd.DataFrame()\n",
    "        for i, dice in enumerate(self.game_dice):\n",
    "            self.play_run[i]=pd.DataFrame(dice.roll_die(roll_num))\n",
    "        self.play_run.index=range(1, len(self.play_run)+1)\n",
    "        self.play_run.index.name='Roll Num'\n",
    "    def narrow_or_wide(self,ans):\n",
    "        \"\"\"Displays self.play_run in either wide or narrow orientation\n",
    "        input=ans, string, the value 'narrow' or 'wide' depending on desired table.\n",
    "        return=self.narrow_tab, pd DataFrame, a narrow version of self.play_run if 'narrow' is selected.\n",
    "        self.play_run, pd DataFrame, returns self.play_run unchanged if 'wide' is selected.\"\"\"\n",
    "        if not isinstance(ans,str):\n",
    "            raise ValueError(\"Not a string.\")\n",
    "        if ans.lower() != 'narrow' and ans.lower() != 'wide':\n",
    "            raise ValueError(\"Please enter narrow or wide.\")\n",
    "        if ans.lower() == 'narrow':\n",
    "            self.narrow_tab=self.play_run.stack().to_frame('Outcome')\n",
    "            return self.narrow_tab\n",
    "        if ans.lower() == 'wide':\n",
    "            return self.play_run\n",
    "\n",
    "class Analyzer():\n",
    "    \"\"\"Computes the statsitics of a single Game object.\"\"\"\n",
    "    def __init__(self,game_obj):\n",
    "        \"\"\"Creates an instance of Analyzer\n",
    "        input=game_obj, an instance of class Game\n",
    "        creates=self.gameobj, stores game_obj\n",
    "        self.dieface, np array, stores the faces present on a die\"\"\"\n",
    "        if not isinstance(game_obj,Game):\n",
    "            raise ValueError(\"Not a game object.\")\n",
    "        self.gameobj=game_obj\n",
    "        self.dieface=game_obj.game_dice[0].faces\n",
    "    def jackpot(self):\n",
    "        \"\"\"Outputs an integer with the number of rolls where all dice equal the same face.\n",
    "        return=count, integer, the number of rolls where all dice equal the same face.\"\"\"\n",
    "        count=0\n",
    "        for ind, row in self.gameobj.play_run.iterrows():\n",
    "            if len(pd.unique(row.values))==1:\n",
    "                count+=1\n",
    "        return count\n",
    "    def face_count(self):\n",
    "        \"\"\"Counts the number of times all faces/sides appear in each roll of all dice\n",
    "        return=fa_count, pd DataFrame, the counts for all faces for each roll of all dice\"\"\"\n",
    "        fa_count=pd.DataFrame(index=self.gameobj.play_run.index)\n",
    "        for face in self.dieface:\n",
    "            fa_count[face]=self.gameobj.play_run.apply(lambda r:(r==face).sum(),axis=1)\n",
    "        return fa_count\n",
    "    def combo_count(self):\n",
    "        \"\"\"Returns a combination count table of face rolls and the number of times occurred.\n",
    "        return=row_tup_combo, pd DataFrame, the combo counts for each tuple.\"\"\"\n",
    "        row_tup=[tuple(sorted(self.gameobj.play_run.loc[i])) for i in self.gameobj.play_run.index]\n",
    "        row_tup_combo=pd.DataFrame.from_dict({tuple_combo: row_tup.count(tuple_combo) for tuple_combo in list(set(row_tup))},orient='index')\n",
    "        row_tup_combo.index=pd.MultiIndex.from_tuples(row_tup_combo.index)\n",
    "        row_tup_combo=row_tup_combo.rename(columns={0:'Combo Count'})\n",
    "        return row_tup_combo\n",
    "    def permute_count(self):\n",
    "        \"\"\"Returns a permutation count table of face rolls and the number of times occurred.\n",
    "        return=row_tup_perm, pd DataFrame, the permutation counts for each tuple.\"\"\"\n",
    "        row_tup=[tuple(self.gameobj.play_run.loc[i]) for i in self.gameobj.play_run.index]\n",
    "        row_tup_perm=pd.DataFrame.from_dict({tuple_perm: row_tup.count(tuple_perm) for tuple_perm in list(set(row_tup))},orient='index')\n",
    "        row_tup_perm.index=pd.MultiIndex.from_tuples(row_tup_perm.index)\n",
    "        row_tup_perm=row_tup_perm.rename(columns={0:'Permute Count'})\n",
    "        pd.set_option('display.multi_sparse',False)\n",
    "        return row_tup_perm\n",
    "```"
   ]
  },
  {
   "cell_type": "markdown",
   "id": "6377727a-8f0a-491e-9f1c-d9dc225edd35",
   "metadata": {},
   "source": [
    "## Unitest Module (2)\n",
    "\n",
    "Paste a copy of your test module below.\n",
    "\n",
    "NOTE: Paste as text, not as code. Use triple backticks to wrap your code blocks.\n",
    "\n",
    "- All methods have at least one test method (1).\n",
    "- Each method employs one of Unittest's Assert methods (1)."
   ]
  },
  {
   "cell_type": "markdown",
   "id": "75f0ec68-742b-4b73-a8d4-6d00366d3ba1",
   "metadata": {},
   "source": [
    "```python\n",
    "import unittest\n",
    "import numpy as np\n",
    "import pandas as pd\n",
    "from MonteCarlo.ProjClasses import Die, Game, Analyzer\n",
    "\n",
    "class DieTestSuite(unittest.TestCase):\n",
    "    def test_01_init(self):\n",
    "        self.assertRaises(TypeError, Die, 8)\n",
    "    def test_02_change_weight(self):\n",
    "        Num=np.array([1,2,3,4,5,6])\n",
    "        new_die=Die(Num)\n",
    "        self.assertRaises(IndexError, new_die.change_weight, 8, 1.5)\n",
    "    def test_03_roll_die(self):\n",
    "        Num=np.array([1,2,3,4,5,6])\n",
    "        new_die=Die(Num)\n",
    "        new_roll=new_die.roll_die(3)\n",
    "        self.assertEqual(len(new_roll),3)\n",
    "        self.assertIsInstance(new_roll,list)\n",
    "    def test_04_show_die(self):\n",
    "        Num=np.array([1,2,3,4,5,6])\n",
    "        new_die=Die(Num)\n",
    "        new_die_show=new_die.show_die()\n",
    "        self.assertEqual(len(new_die_show),6)\n",
    "        self.assertIsInstance(new_die_show,pd.DataFrame)\n",
    "class GameTestSuite(unittest.TestCase):\n",
    "    def test_05_init(self):\n",
    "        Num=np.array([1,2,3,4,5,6])\n",
    "        new_die=Die(Num)\n",
    "        new_die2=Die(Num)\n",
    "        dice_list=[new_die,new_die2]\n",
    "        new_game=Game(dice_list)\n",
    "        self.assertEqual(len(new_game.game_dice),2)\n",
    "        self.assertIsInstance(new_game,Game)\n",
    "    def test_06_play(self):\n",
    "        Num=np.array([1,2,3,4,5,6])\n",
    "        new_die=Die(Num)\n",
    "        new_die2=Die(Num)\n",
    "        dice_list=[new_die,new_die2]\n",
    "        new_game=Game(dice_list)\n",
    "        new_game.play(10)\n",
    "        self.assertEqual(len(new_game.play_run),10)\n",
    "        self.assertEqual(len(new_game.play_run.columns),2)\n",
    "        self.assertIsInstance(new_game.play_run,pd.DataFrame)\n",
    "    def test_07_nar_or_wide(self):\n",
    "        Num=np.array([1,2,3,4,5,6])\n",
    "        new_die=Die(Num)\n",
    "        new_die2=Die(Num)\n",
    "        dice_list=[new_die,new_die2]\n",
    "        new_game=Game(dice_list)\n",
    "        new_game.play(10)\n",
    "        self.assertRaises(ValueError, new_game.narrow_or_wide, 8)\n",
    "        self.assertRaises(ValueError, new_game.narrow_or_wide, \"Spaghetti\")\n",
    "class AnalyzerTestSuite(unittest.TestCase):\n",
    "    def test_08_init(self):\n",
    "        self.assertRaises(ValueError, Analyzer, 8)\n",
    "    def test_09_jackpot(self):\n",
    "        Num=np.array([1,2,3,4,5,6])\n",
    "        new_die=Die(Num)\n",
    "        new_die.change_weight(1,0)\n",
    "        new_die.change_weight(2,0)\n",
    "        new_die.change_weight(3,0)\n",
    "        new_die.change_weight(4,0)\n",
    "        new_die.change_weight(5,0)\n",
    "        new_die2=Die(Num)\n",
    "        new_die2.change_weight(1,0)\n",
    "        new_die2.change_weight(2,0)\n",
    "        new_die2.change_weight(3,0)\n",
    "        new_die2.change_weight(4,0)\n",
    "        new_die2.change_weight(5,0)\n",
    "        dice_list=[new_die,new_die2]\n",
    "        new_game=Game(dice_list)\n",
    "        new_game.play(10)\n",
    "        new_ana=Analyzer(new_game)\n",
    "        self.assertEqual(new_ana.jackpot(),10)\n",
    "        self.assertIsInstance(new_ana.jackpot(),int)\n",
    "    def test_10_facecount(self):\n",
    "        Num=np.array([1,2,3,4,5,6])\n",
    "        new_die=Die(Num)\n",
    "        new_die2=Die(Num)\n",
    "        dice_list=[new_die,new_die2]\n",
    "        new_game=Game(dice_list)\n",
    "        new_game.play(10)\n",
    "        new_ana=Analyzer(new_game)\n",
    "        self.assertEqual(len(new_ana.face_count()),10)\n",
    "        self.assertEqual(len(new_ana.face_count().columns),6)\n",
    "        self.assertIsInstance(new_ana.face_count(),pd.DataFrame)\n",
    "    def test_11_combo(self):\n",
    "        Num=np.array([1,2,3,4,5,6])\n",
    "        new_die=Die(Num)\n",
    "        new_die2=Die(Num)\n",
    "        new_die3=Die(Num)\n",
    "        dice_list=[new_die,new_die2,new_die3]\n",
    "        new_game=Game(dice_list)\n",
    "        new_game.play(10)\n",
    "        new_ana=Analyzer(new_game)\n",
    "        self.assertIsInstance(new_ana.combo_count().index,pd.MultiIndex)\n",
    "        self.assertIsInstance(new_ana.combo_count(),pd.DataFrame)\n",
    "    def test_12_permu(self):\n",
    "        Num=np.array([1,2,3,4,5,6])\n",
    "        new_die=Die(Num)\n",
    "        new_die2=Die(Num)\n",
    "        new_die3=Die(Num)\n",
    "        dice_list=[new_die,new_die2,new_die3]\n",
    "        new_game=Game(dice_list)\n",
    "        new_game.play(10)\n",
    "        new_ana=Analyzer(new_game)\n",
    "        self.assertIsInstance(new_ana.permute_count().index,pd.MultiIndex)\n",
    "        self.assertIsInstance(new_ana.permute_count(),pd.DataFrame)\n",
    "        \n",
    "if __name__ == '__main__':\n",
    "    unittest.main(verbosity=3)\n",
    "```"
   ]
  },
  {
   "cell_type": "markdown",
   "id": "3e058d03-29bc-408f-b36d-0605b4f4b8c0",
   "metadata": {
    "tags": []
   },
   "source": [
    "## Unittest Results (3)\n",
    "\n",
    "Put a copy of the results of running your tests from the command line here.\n",
    "\n",
    "Again, paste as text using triple backticks.\n",
    "\n",
    "- All 12 specified methods return OK (3; .25 each)."
   ]
  },
  {
   "cell_type": "markdown",
   "id": "d0e23b2e-7f8f-4d1c-ba8e-f86383168f71",
   "metadata": {
    "tags": []
   },
   "source": [
    "```\n",
    "bash-4.4$module load miniforge\n",
    "bash-4.4$python projtest.py\n",
    "test_08_init (__main__.AnalyzerTestSuite.test_08_init) ... ok\n",
    "test_09_jackpot (__main__.AnalyzerTestSuite.test_09_jackpot) ... ok\n",
    "test_10_facecount (__main__.AnalyzerTestSuite.test_10_facecount) ... ok\n",
    "test_11_combo (__main__.AnalyzerTestSuite.test_11_combo) ... ok\n",
    "test_12_permu (__main__.AnalyzerTestSuite.test_12_permu) ... ok\n",
    "test_01_init (__main__.DieTestSuite.test_01_init) ... ok\n",
    "test_02_change_weight (__main__.DieTestSuite.test_02_change_weight) ... ok\n",
    "test_03_roll_die (__main__.DieTestSuite.test_03_roll_die) ... ok\n",
    "test_04_show_die (__main__.DieTestSuite.test_04_show_die) ... ok\n",
    "test_05_init (__main__.GameTestSuite.test_05_init) ... ok\n",
    "test_06_play (__main__.GameTestSuite.test_06_play) ... ok\n",
    "test_07_nar_or_wide (__main__.GameTestSuite.test_07_nar_or_wide) ... ok\n",
    "----------------------------------------------------------------------\n",
    "Ran 12 tests in 0.070s\n",
    "```"
   ]
  },
  {
   "cell_type": "markdown",
   "id": "d9ffe8c5-eb2f-4ad1-af76-a46550e4c7ac",
   "metadata": {},
   "source": [
    "## Import (1)\n",
    "\n",
    "Import your module here. This import should refer to the code in your package directory.\n",
    "\n",
    "- Module successuflly imported (1)."
   ]
  },
  {
   "cell_type": "code",
   "execution_count": 4,
   "id": "a05dffb3-e6d6-4f78-9df4-5abd0cf74ca9",
   "metadata": {
    "tags": []
   },
   "outputs": [],
   "source": [
    "import MonteCarlo.ProjClasses\n",
    "from MonteCarlo.ProjClasses import Die, Game, Analyzer"
   ]
  },
  {
   "cell_type": "markdown",
   "id": "f30c4842-65b1-4556-98b6-3fe1a07e1371",
   "metadata": {},
   "source": [
    "## Help Docs (4)\n",
    "\n",
    "Show your docstring documentation by applying `help()` to your imported module.\n",
    "\n",
    "- All methods have a docstring (3; .25 each).\n",
    "- All classes have a docstring (1; .33 each)."
   ]
  },
  {
   "cell_type": "code",
   "execution_count": 5,
   "id": "bf4fbf1f-9885-471c-a0a6-e9ca90e160de",
   "metadata": {
    "tags": []
   },
   "outputs": [
    {
     "name": "stdout",
     "output_type": "stream",
     "text": [
      "Help on module MonteCarlo.ProjClasses in MonteCarlo:\n",
      "\n",
      "NAME\n",
      "    MonteCarlo.ProjClasses\n",
      "\n",
      "CLASSES\n",
      "    builtins.object\n",
      "        Analyzer\n",
      "        Die\n",
      "        Game\n",
      "    \n",
      "    class Analyzer(builtins.object)\n",
      "     |  Analyzer(game_obj)\n",
      "     |  \n",
      "     |  Computes the statsitics of a single Game object.\n",
      "     |  \n",
      "     |  Methods defined here:\n",
      "     |  \n",
      "     |  __init__(self, game_obj)\n",
      "     |      Creates an instance of Analyzer\n",
      "     |      input=game_obj, an instance of class Game\n",
      "     |      creates=self.gameobj, stores game_obj\n",
      "     |      self.dieface, np array, stores the faces present on a die\n",
      "     |  \n",
      "     |  combo_count(self)\n",
      "     |      Returns a combination count table of face rolls and the number of times occurred.\n",
      "     |      return=row_tup_combo, pd DataFrame, the combo counts for each tuple.\n",
      "     |  \n",
      "     |  face_count(self)\n",
      "     |      Counts the number of times all faces/sides appear in each roll of all dice\n",
      "     |      return=fa_count, pd DataFrame, the counts for all faces for each roll of all dice\n",
      "     |  \n",
      "     |  jackpot(self)\n",
      "     |      Outputs an integer with the number of rolls where all dice equal the same face.\n",
      "     |      return=count, integer, the number of rolls where all dice equal the same face.\n",
      "     |  \n",
      "     |  permute_count(self)\n",
      "     |      Returns a permutation count table of face rolls and the number of times occurred.\n",
      "     |      return=row_tup_perm, pd DataFrame, the permutation counts for each tuple.\n",
      "     |  \n",
      "     |  ----------------------------------------------------------------------\n",
      "     |  Data descriptors defined here:\n",
      "     |  \n",
      "     |  __dict__\n",
      "     |      dictionary for instance variables (if defined)\n",
      "     |  \n",
      "     |  __weakref__\n",
      "     |      list of weak references to the object (if defined)\n",
      "    \n",
      "    class Die(builtins.object)\n",
      "     |  Die(N)\n",
      "     |  \n",
      "     |  Creates a die object with weights that can be rolled.\n",
      "     |  \n",
      "     |  Methods defined here:\n",
      "     |  \n",
      "     |  __init__(self, N)\n",
      "     |      Creates an instance of the die.\n",
      "     |      input=N, a numpy array of die faces (numeric or alphabetic).\n",
      "     |      Creates=Weights, a numpy array of uniform weights for each face.\n",
      "     |      die_frame, a pd dataframe of faces/sides and weights\n",
      "     |  \n",
      "     |  change_weight(self, num_face, num_weight)\n",
      "     |      Changes the weight of a single die face.\n",
      "     |      input=num_face, a single member of self.faces.\n",
      "     |      num_weight, integer or float to replace weight of num_face\n",
      "     |      Changes=Alters the weight within self.die_frame\n",
      "     |  \n",
      "     |  roll_die(self, rolls=1)\n",
      "     |      Rolls the dice a set number of times.\n",
      "     |      default=rolls, integer, rolls 1 time.\n",
      "     |      input=rolls, integer, the number of times the die is rolled.\n",
      "     |      returns=temp_roll_holder, list, the die face rolled for each roll\n",
      "     |  \n",
      "     |  show_die(self)\n",
      "     |      Shows the die object in its current state\n",
      "     |      returns=self.die_frame, pd Dataframe, faces/sides and weights of the die\n",
      "     |  \n",
      "     |  ----------------------------------------------------------------------\n",
      "     |  Data descriptors defined here:\n",
      "     |  \n",
      "     |  __dict__\n",
      "     |      dictionary for instance variables (if defined)\n",
      "     |  \n",
      "     |  __weakref__\n",
      "     |      list of weak references to the object (if defined)\n",
      "    \n",
      "    class Game(builtins.object)\n",
      "     |  Game(dice_list)\n",
      "     |  \n",
      "     |  Creates a Game object for rolling multiple dice with the same side/face count.\n",
      "     |  \n",
      "     |  Methods defined here:\n",
      "     |  \n",
      "     |  __init__(self, dice_list)\n",
      "     |      Creates an instance of the Game object\n",
      "     |      input=dice_list, list, a list of already instanced Die objects with same face/side count\n",
      "     |      creates=self.game_dice, list, originally dice_list\n",
      "     |  \n",
      "     |  narrow_or_wide(self, ans)\n",
      "     |      Displays self.play_run in either wide or narrow orientation\n",
      "     |      input=ans, string, the value 'narrow' or 'wide' depending on desired table.\n",
      "     |      return=self.narrow_tab, pd DataFrame, a narrow version of self.play_run if 'narrow' is selected.\n",
      "     |      self.play_run, pd DataFrame, returns self.play_run unchanged if 'wide' is selected.\n",
      "     |  \n",
      "     |  play(self, roll_num)\n",
      "     |      Rolls the dice in self.game_dice a set number of times, then stores results\n",
      "     |      input=roll_num, integer, a number of time for all dice to be rolled\n",
      "     |      creates=self.play_run, pd DataFrame, stores the faces rolled for each die for each roll\n",
      "     |  \n",
      "     |  ----------------------------------------------------------------------\n",
      "     |  Data descriptors defined here:\n",
      "     |  \n",
      "     |  __dict__\n",
      "     |      dictionary for instance variables (if defined)\n",
      "     |  \n",
      "     |  __weakref__\n",
      "     |      list of weak references to the object (if defined)\n",
      "\n",
      "FILE\n",
      "    /sfs/gpfs/tardis/home/umu5hh/Documents/MSDS/DS5100/DS5100FinalProject/MonteCarlo/ProjClasses.py\n",
      "\n",
      "\n"
     ]
    }
   ],
   "source": [
    "help(MonteCarlo.ProjClasses)"
   ]
  },
  {
   "cell_type": "markdown",
   "id": "a9defa84-b395-4966-bd1c-5c6c2bb7ed68",
   "metadata": {},
   "source": [
    "## `README.md` File (3)\n",
    "\n",
    "Provide link to the README.md file of your project's repo.\n",
    "\n",
    "- Metadata section or info present (1).\n",
    "- Synopsis section showing how each class is called (1). (All must be included.)\n",
    "- API section listing all classes and methods (1). (All must be included.)"
   ]
  },
  {
   "cell_type": "markdown",
   "id": "ee090b33-d593-48a0-bf35-e739cea0942c",
   "metadata": {},
   "source": [
    "URL:https://github.com/KDunning0/DS5100FinalProject/blob/main/README.md"
   ]
  },
  {
   "cell_type": "markdown",
   "id": "108604c8-8827-42ef-ab59-6b25428fc0ca",
   "metadata": {},
   "source": [
    "## Successful installation (2)\n",
    "\n",
    "Put a screenshot or paste a copy of a terminal session where you successfully install your module with pip.\n",
    "\n",
    "If pasting text, use a preformatted text block to show the results.\n",
    "\n",
    "- Installed with `pip` (1).\n",
    "- Successfully installed message appears (1)."
   ]
  },
  {
   "cell_type": "raw",
   "id": "1278db6a-aa53-4e5c-a749-93a87ab239e0",
   "metadata": {},
   "source": [
    "bash-4.4$pip install .\n",
    "Defaulting to user installation because normal site-packages is not writeable\n",
    "Processing /sfs/gpfs/tardis/home/umu5hh/Documents/MSDS/DS5100/DS5100FinalProject\n",
    "  Preparing metadata (setup.py) ... done\n",
    "Using legacy 'setup.py install' for MonteCarlo, since package 'wheel' is not installed.\n",
    "Installing collected packages: MonteCarlo\n",
    "  Attempting uninstall: MonteCarlo\n",
    "    Found existing installation: MonteCarlo 1.0\n",
    "    Uninstalling MonteCarlo-1.0:\n",
    "      Successfully uninstalled MonteCarlo-1.0\n",
    "    Running setup.py install for MonteCarlo ... done\n",
    "Successfully installed MonteCarlo-1.0"
   ]
  },
  {
   "cell_type": "markdown",
   "id": "7c44695d-d1b3-4edf-9f94-e64d7446f199",
   "metadata": {},
   "source": [
    "# Scenarios\n",
    "\n",
    "Use code blocks to perform the tasks for each scenario.\n",
    "\n",
    "Be sure the outputs are visible before submitting."
   ]
  },
  {
   "cell_type": "markdown",
   "id": "e2479eae-6fc9-44cd-b8d7-9b22cb501f2a",
   "metadata": {
    "tags": []
   },
   "source": [
    "## Scenario 1: A 2-headed Coin (9)\n",
    "\n",
    "Task 1. Create a fair coin (with faces $H$ and $T$) and one unfair coin in which one of the faces has a weight of $5$ and the others $1$.\n",
    "\n",
    "- Fair coin created (1).\n",
    "- Unfair coin created with weight as specified (1)."
   ]
  },
  {
   "cell_type": "code",
   "execution_count": 6,
   "id": "9044f044-3cf5-4f84-a398-2f0a5c9530c3",
   "metadata": {
    "tags": []
   },
   "outputs": [],
   "source": [
    "import numpy as np\n",
    "import pandas as pd"
   ]
  },
  {
   "cell_type": "code",
   "execution_count": 7,
   "id": "55ce498e-c75f-4425-9e3e-b635bd6cd9e1",
   "metadata": {},
   "outputs": [],
   "source": [
    "fair_coin=Die(np.array(['H','T']))\n",
    "unfair_coin=Die(np.array(['H','T']))\n",
    "unfair_coin.change_weight('H',5)"
   ]
  },
  {
   "cell_type": "markdown",
   "id": "02b272ab-99da-4b6e-ac2a-555b73e09c07",
   "metadata": {},
   "source": [
    "Task 2. Play a game of $1000$ flips with two fair dice.\n",
    "\n",
    "- Play method called correclty and without error (1)."
   ]
  },
  {
   "cell_type": "code",
   "execution_count": 8,
   "id": "65c92601-d32d-4326-b215-74953aee27f2",
   "metadata": {},
   "outputs": [],
   "source": [
    "coin_list1=[fair_coin,fair_coin]\n",
    "coin_game1=Game(coin_list1)\n",
    "n=1000\n",
    "coin_game1.play(n)"
   ]
  },
  {
   "cell_type": "markdown",
   "id": "7d9c3dc8-22c1-4cae-81fb-d68d774a05d1",
   "metadata": {},
   "source": [
    "Task 3. Play another game (using a new Game object) of $1000$ flips, this time using two unfair dice and one fair die. For the second unfair die, you can use the same die object twice in the list of dice you pass to the Game object.\n",
    "\n",
    "- New game object created (1).\n",
    "- Play method called correclty and without error (1)."
   ]
  },
  {
   "cell_type": "code",
   "execution_count": 9,
   "id": "d4098bed-1eb2-4084-8d5e-9fda07c3be43",
   "metadata": {},
   "outputs": [],
   "source": [
    "coin_list2=[unfair_coin,unfair_coin,fair_coin]\n",
    "coin_game2=Game(coin_list2)\n",
    "coin_game2.play(n)"
   ]
  },
  {
   "cell_type": "markdown",
   "id": "f690ebfc-fe71-4eb2-976d-7ac80ca6c23f",
   "metadata": {},
   "source": [
    "Task 4. For each game, use an Analyzer object to determine the raw frequency of jackpots — i.e. getting either all $H$s or all $T$s.\n",
    "\n",
    "- Analyzer objecs instantiated for both games (1).\n",
    "- Raw frequencies reported for both (1)."
   ]
  },
  {
   "cell_type": "code",
   "execution_count": 10,
   "id": "b26b8b7e-3be7-4476-a9a4-37d97536729e",
   "metadata": {},
   "outputs": [
    {
     "name": "stdout",
     "output_type": "stream",
     "text": [
      "Two fair coin Jackpot = 508\n",
      "Two unfair and one fair coin Jackpot = 379\n"
     ]
    }
   ],
   "source": [
    "new_ana1=Analyzer(coin_game1)\n",
    "new_ana2=Analyzer(coin_game2)\n",
    "print(f'Two fair coin Jackpot = {new_ana1.jackpot()}')\n",
    "print(f'Two unfair and one fair coin Jackpot = {new_ana2.jackpot()}')"
   ]
  },
  {
   "cell_type": "markdown",
   "id": "b73d233c-445e-40cd-8858-0c5e1f097105",
   "metadata": {},
   "source": [
    "Task 5. For each analyzer, compute relative frequency as the number of jackpots over the total number of rolls.\n",
    "\n",
    "- Both relative frequencies computed (1)."
   ]
  },
  {
   "cell_type": "code",
   "execution_count": 11,
   "id": "9a96b31b-1b9d-496e-be3e-4bf83c45ec3a",
   "metadata": {},
   "outputs": [],
   "source": [
    "Trial_1_Jackpot=new_ana1.jackpot()/n\n",
    "Trial_2_Jackpot=new_ana2.jackpot()/n"
   ]
  },
  {
   "cell_type": "markdown",
   "id": "a6e1e734-7f5c-4721-8ba4-2f3a424cf984",
   "metadata": {},
   "source": [
    "Task 6. Show your results, comparing the two relative frequencies, in a simple bar chart.\n",
    "\n",
    "- Bar chart plotted and correct (1)."
   ]
  },
  {
   "cell_type": "code",
   "execution_count": 12,
   "id": "473fa67c-aa53-4aa3-a0b7-e8772b3f6ed3",
   "metadata": {},
   "outputs": [
    {
     "data": {
      "image/png": "[encoded data removed]",
      "text/plain": [
       "<Figure size 640x480 with 1 Axes>"
      ]
     },
     "metadata": {},
     "output_type": "display_data"
    }
   ],
   "source": [
    "import matplotlib.pyplot as plt\n",
    "x=['Trial 1 Jackpot Freq','Trial 2 Jackpot Freq']\n",
    "y=[Trial_1_Jackpot,Trial_2_Jackpot]\n",
    "plt.bar(x,y)\n",
    "plt.xlabel('Coin Flip Trials')\n",
    "plt.ylabel('Jackpot Frequency')\n",
    "plt.title('Jackpot Frequency for 1000 Coin Flip Trials')\n",
    "plt.show()"
   ]
  },
  {
   "cell_type": "markdown",
   "id": "725cfa5b-e4b7-47c9-86aa-8d9e1fe6c8c7",
   "metadata": {},
   "source": [
    "## Scenario 2: A 6-sided Die (9)\n",
    "\n",
    "Task 1. Create three dice, each with six sides having the faces 1 through 6.\n",
    "\n",
    "- Three die objects created (1)."
   ]
  },
  {
   "cell_type": "code",
   "execution_count": 13,
   "id": "6a8bc611-325a-4e05-88d5-980e0a2cf7c5",
   "metadata": {},
   "outputs": [],
   "source": [
    "die_faces=np.array([1,2,3,4,5,6])\n",
    "cube_die_1=Die(die_faces)\n",
    "cube_die_2=Die(die_faces)\n",
    "cube_die_3=Die(die_faces)"
   ]
  },
  {
   "cell_type": "markdown",
   "id": "2ed3ad26-fbe9-43bd-9ad7-f683a4191d12",
   "metadata": {},
   "source": [
    "Task 2. Convert one of the dice to an unfair one by weighting the face $6$ five times more than the other weights (i.e. it has weight of 5 and the others a weight of 1 each).\n",
    "\n",
    "- Unfair die created with proper call to weight change method (1)."
   ]
  },
  {
   "cell_type": "code",
   "execution_count": 14,
   "id": "e33dd18f-7f90-456d-a680-61c08a328e21",
   "metadata": {},
   "outputs": [],
   "source": [
    "cube_die_1.change_weight(6,5)"
   ]
  },
  {
   "cell_type": "markdown",
   "id": "7f6c062a-4c5b-45b9-96b8-76a0354c7e47",
   "metadata": {},
   "source": [
    "Task 3. Convert another of the dice to be unfair by weighting the face $1$ five times more than the others.\n",
    "\n",
    "- Unfair die created with proper call to weight change method (1)."
   ]
  },
  {
   "cell_type": "code",
   "execution_count": 15,
   "id": "01133a4e-6b06-4246-8d90-8e6d6995be51",
   "metadata": {},
   "outputs": [],
   "source": [
    "cube_die_2.change_weight(1,5)"
   ]
  },
  {
   "cell_type": "markdown",
   "id": "f0ed31cb-0a3c-4eb2-b85e-6ed6b2eb6e58",
   "metadata": {},
   "source": [
    "Task 4. Play a game of $10000$ rolls with $5$ fair dice.\n",
    "\n",
    "- Game class properly instantiated (1). \n",
    "- Play method called properly (1)."
   ]
  },
  {
   "cell_type": "code",
   "execution_count": 16,
   "id": "e92395a4-9ed8-4cb0-8c85-38768a784ffc",
   "metadata": {},
   "outputs": [],
   "source": [
    "cube_die_list=[cube_die_3,cube_die_3,cube_die_3]\n",
    "cube_game_fair=Game(cube_die_list)\n",
    "n2=10000\n",
    "cube_game_fair.play(n2)"
   ]
  },
  {
   "cell_type": "markdown",
   "id": "7814b402-46a4-40e5-8141-20e05c3e646b",
   "metadata": {},
   "source": [
    "Task 5. Play another game of $10000$ rolls, this time with $2$ unfair dice, one as defined in steps #2 and #3 respectively, and $3$ fair dice.\n",
    "\n",
    "- Game class properly instantiated (1). \n",
    "- Play method called properly (1)."
   ]
  },
  {
   "cell_type": "code",
   "execution_count": 17,
   "id": "7cd58fba-b2a5-4d5d-bc6d-2a7a68d18c4f",
   "metadata": {},
   "outputs": [],
   "source": [
    "cube_die_list2=[cube_die_1,cube_die_2,cube_die_3,cube_die_3,cube_die_3]\n",
    "cube_game_unfair=Game(cube_die_list2)\n",
    "cube_game_unfair.play(n2)"
   ]
  },
  {
   "cell_type": "markdown",
   "id": "7b6cd372-2bb8-4df8-ade1-8f48bc300955",
   "metadata": {},
   "source": [
    "Task 6. For each game, use an Analyzer object to determine the relative frequency of jackpots and show your results, comparing the two relative frequencies, in a simple bar chart.\n",
    "\n",
    "- Jackpot methods called (1).\n",
    "- Graph produced (1)."
   ]
  },
  {
   "cell_type": "code",
   "execution_count": 19,
   "id": "bbdcf695-8937-406e-9b53-aa0b9ee3c59a",
   "metadata": {},
   "outputs": [
    {
     "data": {
      "image/png": "[encoded data removed]",
      "text/plain": [
       "<Figure size 640x480 with 1 Axes>"
      ]
     },
     "metadata": {},
     "output_type": "display_data"
    }
   ],
   "source": [
    "fair_ana=Analyzer(cube_game_fair)\n",
    "unfair_ana=Analyzer(cube_game_unfair)\n",
    "Trial_Fair_Jackpot=fair_ana.jackpot()/n2\n",
    "Trial_Unfair_Jackpot=unfair_ana.jackpot()/n2\n",
    "x=['Trial 1 Jackpot', 'Trial 2 Jackpot']\n",
    "y=[Trial_Fair_Jackpot,Trial_Unfair_Jackpot]\n",
    "plt.bar(x,y)\n",
    "plt.xlabel('Cube Dice Trials')\n",
    "plt.ylabel('Jackpot Frequency')\n",
    "plt.title('Jackpot Frequency for 10000 Rolls Cube Dice')\n",
    "plt.show()"
   ]
  },
  {
   "cell_type": "markdown",
   "id": "9f04e9be-8fcf-4ea4-a391-6614608285f8",
   "metadata": {},
   "source": [
    "# Scenario 3: Letters of the Alphabet (7)\n",
    "\n",
    "Task 1. Create a \"die\" of letters from $A$ to $Z$ with weights based on their frequency of usage as found in the data file `english_letters.txt`. Use the frequencies (i.e. raw counts) as weights.\n",
    "\n",
    "- Die correctly instantiated with source file data (1).\n",
    "- Weights properly applied using weight setting method (1)."
   ]
  },
  {
   "cell_type": "code",
   "execution_count": 24,
   "id": "b0ceb771-3cdf-4d8f-8c2c-020806bbb909",
   "metadata": {},
   "outputs": [],
   "source": [
    "letters=pd.read_csv('english_letters.txt',header=None,sep='\\s+')\n",
    "letter_dice=Die(np.array(letters[0].values))\n",
    "for i,letter in enumerate(letter_dice.faces):\n",
    "    letter_dice.change_weight(letter,int(letters[1].iloc[i]))"
   ]
  },
  {
   "cell_type": "markdown",
   "id": "88e2e14a-6223-470a-a2c8-bca1120d7a5b",
   "metadata": {},
   "source": [
    "Task 2. Play a game involving $4$ of these dice with $1000$ rolls.\n",
    "\n",
    "- Game play method properly called (1)."
   ]
  },
  {
   "cell_type": "code",
   "execution_count": 25,
   "id": "68caa906-38dd-4566-a57d-32b9d634bed6",
   "metadata": {
    "tags": []
   },
   "outputs": [],
   "source": [
    "letter_dice_list=[letter_dice,letter_dice,letter_dice,letter_dice]\n",
    "letter_game1=Game(letter_dice_list)\n",
    "roll=1000\n",
    "letter_game1.play(roll)"
   ]
  },
  {
   "cell_type": "markdown",
   "id": "3b9ff800-bf1f-4f66-9d7f-ff57a648e9f0",
   "metadata": {},
   "source": [
    "Task 3. Determine how many permutations in your results are actual English words, based on the vocabulary found in `scrabble_words.txt`.\n",
    "\n",
    "- Use permutation method (1).\n",
    "- Get count as difference between permutations and vocabulary (1)."
   ]
  },
  {
   "cell_type": "code",
   "execution_count": 47,
   "id": "ed1c7fa0-cfa3-4cf4-9fd0-9f84b86b0f64",
   "metadata": {},
   "outputs": [
    {
     "name": "stdout",
     "output_type": "stream",
     "text": [
      "There are 59 words made with 4 letter dice and 1000 rolls.\n"
     ]
    }
   ],
   "source": [
    "words=pd.read_csv('scrabble_words.txt',header=None)\n",
    "\n",
    "letter1_ana=Analyzer(letter_game1)\n",
    "\n",
    "words=words[0].astype(str).to_list()\n",
    "words=set(words)\n",
    "\n",
    "permu_list=letter1_ana.permute_count().index.to_list()\n",
    "permu_set={''.join(tup) for tup in permu_list}\n",
    "\n",
    "word_count1=len(permu_set.intersection(words))\n",
    "\n",
    "print(f'There are {word_count1} words made with {len(letter_game1.game_dice)} letter dice and {roll} rolls.')"
   ]
  },
  {
   "cell_type": "markdown",
   "id": "fcf068cf-381a-4b3e-ac3a-0510eb4dbdb0",
   "metadata": {},
   "source": [
    "Task 4. Repeat steps #2 and #3, this time with $5$ dice. How many actual words does this produce? Which produces more?\n",
    "\n",
    "- Successfully repreats steps (1).\n",
    "- Identifies parameter with most found words (1)."
   ]
  },
  {
   "cell_type": "code",
   "execution_count": 49,
   "id": "5fff570e-ec7d-4b0a-972f-a18605611900",
   "metadata": {
    "tags": []
   },
   "outputs": [],
   "source": [
    "letter_dice_list2=[letter_dice,letter_dice,letter_dice,letter_dice,letter_dice]\n",
    "letter_game2=Game(letter_dice_list2)\n",
    "letter_game2.play(roll)"
   ]
  },
  {
   "cell_type": "code",
   "execution_count": 50,
   "id": "84be53c4-a72b-41f5-a70d-3ab5dfe62ad0",
   "metadata": {
    "tags": []
   },
   "outputs": [
    {
     "name": "stdout",
     "output_type": "stream",
     "text": [
      "There are 13 words made with 5 letter dice and 1000 rolls.\n"
     ]
    }
   ],
   "source": [
    "letter2_ana=Analyzer(letter_game2)\n",
    "\n",
    "permu_list2=letter2_ana.permute_count().index.to_list()\n",
    "permu_set2={''.join(tup) for tup in permu_list2}\n",
    "\n",
    "word_count2=len(permu_set2.intersection(words))\n",
    "\n",
    "print(f'There are {word_count2} words made with {len(letter_game2.game_dice)} letter dice and {roll} rolls.')"
   ]
  },
  {
   "cell_type": "code",
   "execution_count": 123,
   "id": "cf9e088c-6565-4860-ad42-5cb28b8b6757",
   "metadata": {
    "tags": []
   },
   "outputs": [
    {
     "name": "stdout",
     "output_type": "stream",
     "text": [
      "More four letter words were produced than five letter words.\n"
     ]
    }
   ],
   "source": [
    "print('More four letter words were produced than five letter words.')"
   ]
  }
 ],
 "metadata": {
  "kernelspec": {
   "display_name": "Python 3 (ipykernel)",
   "language": "python",
   "name": "python3"
  },
  "language_info": {
   "codemirror_mode": {
    "name": "ipython",
    "version": 3
   },
   "file_extension": ".py",
   "mimetype": "text/x-python",
   "name": "python",
   "nbconvert_exporter": "python",
   "pygments_lexer": "ipython3",
   "version": "3.11.4"
  },
  "toc-autonumbering": true,
  "widgets": {
   "application/vnd.jupyter.widget-state+json": {
    "state": {},
    "version_major": 2,
    "version_minor": 0
   }
  }
 },
 "nbformat": 4,
 "nbformat_minor": 5
}
